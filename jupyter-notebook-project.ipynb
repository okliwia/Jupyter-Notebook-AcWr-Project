{
 "cells": [
  {
   "cell_type": "markdown",
   "id": "dd5fe813-b2fb-4a88-83c2-3cf66a59c306",
   "metadata": {},
   "source": [
    "# Interactive Linguistic Essay with Jupyter Notebook"
   ]
  },
  {
   "cell_type": "markdown",
   "id": "dc75a073-0b57-4808-b145-1462322a09d1",
   "metadata": {},
   "source": [
    "The aim of this essay is to provide basic linguistic analysis of data from a website and demonstrate the most common Natural Language Processing techniques with the use of **Jupyter Notebook** features and **NLTK** modules."
   ]
  },
  {
   "cell_type": "markdown",
   "id": "214d765e-e584-4198-9a42-f299cae40d8a",
   "metadata": {},
   "source": [
    "The text data for this analysis is extracted from the website [Goodreads](https://www.goodreads.com/) using **Web Scraping** technique. Firstly, the web page is downloaded with the use of Python requests library as follows:"
   ]
  },
  {
   "cell_type": "code",
   "execution_count": 5,
   "id": "31dac8d7-1320-4f31-960a-3587748ef077",
   "metadata": {},
   "outputs": [],
   "source": [
    "import requests"
   ]
  },
  {
   "cell_type": "code",
   "execution_count": 6,
   "id": "c5e00fef-8ad5-46e6-af66-ea72d7741062",
   "metadata": {},
   "outputs": [],
   "source": [
    "page = requests.get(\"https://www.goodreads.com/\")"
   ]
  },
  {
   "cell_type": "code",
   "execution_count": 7,
   "id": "aeb702f1-69d0-4bc2-9d7c-8327bf405ef4",
   "metadata": {},
   "outputs": [
    {
     "name": "stdout",
     "output_type": "stream",
     "text": [
      "<Response [200]>\n"
     ]
    }
   ],
   "source": [
    "print(page)"
   ]
  },
  {
   "cell_type": "markdown",
   "id": "090bbd75-f45d-4247-b8a9-5a710ba05b6b",
   "metadata": {},
   "source": [
    "The above output provides an information that the page was downloaded successfully."
   ]
  },
  {
   "cell_type": "markdown",
   "id": "844839bb-f60a-4ea9-ab5a-50488bf4509d",
   "metadata": {},
   "source": [
    "Next, **the BeautifulSoup library** is applied to extract the sheer content from the website."
   ]
  },
  {
   "cell_type": "code",
   "execution_count": 8,
   "id": "2eefa5cb-3d6c-48e1-9888-072693292718",
   "metadata": {},
   "outputs": [],
   "source": [
    "from bs4 import BeautifulSoup\n",
    "soup = BeautifulSoup(page.content, 'html.parser')"
   ]
  },
  {
   "cell_type": "code",
   "execution_count": 9,
   "id": "87b77d46-5dba-4759-b978-8cbd15333e02",
   "metadata": {},
   "outputs": [],
   "source": [
    "#print(soup.prettify())"
   ]
  },
  {
   "cell_type": "markdown",
   "id": "e495a765-1588-45db-af7e-81ad6e36fb3f",
   "metadata": {},
   "source": [
    "The below code finds all paragraphs in the text and returns a list of them."
   ]
  },
  {
   "cell_type": "code",
   "execution_count": 10,
   "id": "5e2543f0-a252-43d1-9219-a5644ebbe49d",
   "metadata": {},
   "outputs": [],
   "source": [
    "paras = soup.find_all('p')"
   ]
  },
  {
   "cell_type": "code",
   "execution_count": 11,
   "id": "ddc6fadb-2e09-4636-8517-b8a33bd194dd",
   "metadata": {},
   "outputs": [
    {
     "name": "stdout",
     "output_type": "stream",
     "text": [
      "['You’re in the right place. Tell us what titles or genres you’ve enjoyed in the past, and we’ll give you surprisingly insightful recommendations.', 'Chances are your friends are discussing their favorite\\n      (and least favorite) books on Goodreads.', 'Because ♥Meagan♥ liked…', 'She discovered:', 'Historical Fiction, Book Club', 'Because Deborah liked…', 'She discovered:', 'Steam Punk, Science Fiction, Fantasy', 'More book lists', 'Gain access to a massive audience of book lovers.\\n          Goodreads is a great place to promote your books.', 'Welcome back. Just a moment while we sign you in to your Goodreads account.']\n"
     ]
    }
   ],
   "source": [
    "only_text = []\n",
    "for para in paras:\n",
    "    processed_para = para.get_text()\n",
    "    processed_para = processed_para.strip()\n",
    "    if len(processed_para) > 1:\n",
    "        only_text.append(processed_para)\n",
    "print(only_text)"
   ]
  },
  {
   "cell_type": "markdown",
   "id": "f14fd531-04dd-4d2a-9ee7-90f3e50008a2",
   "metadata": {},
   "source": [
    "The output contains elements that are unnecessary and might even disrupt further analysis, therefore, more cleaning techniques can be adopted to remove them and standardize the text. For this purpose, the list is converted to a string as follows:"
   ]
  },
  {
   "cell_type": "code",
   "execution_count": 12,
   "id": "c12d2cc8-3849-446b-9df9-8dafdf6db71d",
   "metadata": {},
   "outputs": [
    {
     "name": "stdout",
     "output_type": "stream",
     "text": [
      "You’re in the right place. Tell us what titles or genres you’ve enjoyed in the past, and we’ll give you surprisingly insightful recommendations. Chances are your friends are discussing their favorite\n",
      "      (and least favorite) books on Goodreads. Because ♥Meagan♥ liked… She discovered: Historical Fiction, Book Club Because Deborah liked… She discovered: Steam Punk, Science Fiction, Fantasy More book lists Gain access to a massive audience of book lovers.\n",
      "          Goodreads is a great place to promote your books. Welcome back. Just a moment while we sign you in to your Goodreads account.\n"
     ]
    }
   ],
   "source": [
    "text = \" \"\n",
    "text = text.join(only_text)\n",
    "print(text)"
   ]
  },
  {
   "cell_type": "markdown",
   "id": "25e3ac30-b7be-42c1-8ef8-da35357510bd",
   "metadata": {},
   "source": [
    "### Case normalization"
   ]
  },
  {
   "cell_type": "code",
   "execution_count": 13,
   "id": "ddd278d4-d6b3-4a62-959e-deb10861e549",
   "metadata": {},
   "outputs": [
    {
     "name": "stdout",
     "output_type": "stream",
     "text": [
      "you’re in the right place. tell us what titles or genres you’ve enjoyed in the past, and we’ll give you surprisingly insightful recommendations. chances are your friends are discussing their favorite\n",
      "      (and least favorite) books on goodreads. because ♥meagan♥ liked… she discovered: historical fiction, book club because deborah liked… she discovered: steam punk, science fiction, fantasy more book lists gain access to a massive audience of book lovers.\n",
      "          goodreads is a great place to promote your books. welcome back. just a moment while we sign you in to your goodreads account.\n"
     ]
    }
   ],
   "source": [
    "text = text.lower()\n",
    "print(text)"
   ]
  },
  {
   "cell_type": "markdown",
   "id": "c2a5d2b6-e391-4dea-afd8-68c1ab5b1cc9",
   "metadata": {},
   "source": [
    "The above code converts all characters in the text to lowercase, as the output shows."
   ]
  },
  {
   "cell_type": "markdown",
   "id": "c84b3555-945f-4d7b-bd13-627ca2229a82",
   "metadata": {},
   "source": [
    "### Removing special characters"
   ]
  },
  {
   "cell_type": "markdown",
   "id": "64923573-5d2f-47c7-8a62-f7df183e5e33",
   "metadata": {},
   "source": [
    "Another step to normalize the text is to remove all special characters, including punctuation marks, Emoji’s, URL’s and @’s, which can be carried out with the below code:"
   ]
  },
  {
   "cell_type": "code",
   "execution_count": 14,
   "id": "31f38d22-f70c-4b55-b39d-0821de7a8649",
   "metadata": {},
   "outputs": [
    {
     "name": "stdout",
     "output_type": "stream",
     "text": [
      "youre in the right place tell us what titles or genres youve enjoyed in the past and well give you surprisingly insightful recommendations chances are your friends are discussing their favorite      and least favorite books on goodreads because meagan liked she discovered historical fiction book club because deborah liked she discovered steam punk science fiction fantasy more book lists gain access to a massive audience of book lovers          goodreads is a great place to promote your books welcome back just a moment while we sign you in to your goodreads account\n"
     ]
    }
   ],
   "source": [
    "import re\n",
    "text = re.sub(r\"(@\\[A-Za-z0-9]+)|([^0-9A-Za-z \\t])|(\\w+:\\/\\/\\S+)|^rt|http.+?\", \"\", text)\n",
    "print(text)"
   ]
  },
  {
   "cell_type": "markdown",
   "id": "08827c96-dfed-4d9c-842b-ba0b8228e2d7",
   "metadata": {},
   "source": [
    "### Removing stop words"
   ]
  },
  {
   "cell_type": "markdown",
   "id": "4a3dafcd-fbaa-4514-a352-aec8021ad971",
   "metadata": {},
   "source": [
    "To remove *stop words*, the English stop words library from NLTK can be used."
   ]
  },
  {
   "cell_type": "code",
   "execution_count": 15,
   "id": "9c470be7-01e6-4e77-a130-f420221b5e84",
   "metadata": {},
   "outputs": [
    {
     "name": "stdout",
     "output_type": "stream",
     "text": [
      "youre right place tell us titles genres youve enjoyed past well give surprisingly insightful recommendations chances friends discussing favorite least favorite books goodreads meagan liked discovered historical fiction book club deborah liked discovered steam punk science fiction fantasy book lists gain access massive audience book lovers goodreads great place promote books welcome back moment sign goodreads account\n"
     ]
    },
    {
     "name": "stderr",
     "output_type": "stream",
     "text": [
      "[nltk_data] Downloading package stopwords to\n",
      "[nltk_data]     C:\\Users\\ASUS\\AppData\\Roaming\\nltk_data...\n",
      "[nltk_data]   Package stopwords is already up-to-date!\n"
     ]
    }
   ],
   "source": [
    "import nltk.corpus\n",
    "nltk.download('stopwords')\n",
    "from nltk.corpus import stopwords\n",
    "\n",
    "stop = stopwords.words('english')\n",
    "text = \" \".join([word for word in text.split() if word not in (stop)])\n",
    "\n",
    "print(text)"
   ]
  },
  {
   "cell_type": "markdown",
   "id": "e38f7544-54e1-4b3a-9487-6176276c14ec",
   "metadata": {},
   "source": [
    "For the purpose of further analysis some words had to be removed manually, as they are not present in the stop list imported from the library:"
   ]
  },
  {
   "cell_type": "code",
   "execution_count": 16,
   "id": "babb99a0-727d-4bb1-8e37-5d6dfcbedba1",
   "metadata": {},
   "outputs": [
    {
     "name": "stdout",
     "output_type": "stream",
     "text": [
      "right place tell titles genres enjoyed past well give surprisingly insightful recommendations chances friends discussing favorite least favorite books goodreads meagan liked discovered historical fiction book club deborah liked discovered steam punk science fiction fantasy book lists gain access massive audience book lovers goodreads great place promote books welcome back moment sign goodreads account\n"
     ]
    }
   ],
   "source": [
    "stopwords = ['youre','us','youve','shomeret']\n",
    "textwords = text.split()\n",
    "\n",
    "resultwords  = [word for word in textwords if word not in stopwords]\n",
    "text = ' '.join(resultwords)\n",
    "\n",
    "print(text)"
   ]
  },
  {
   "cell_type": "markdown",
   "id": "8dc0648e-7bf2-466c-833b-abb35c7b76c5",
   "metadata": {},
   "source": [
    "Finally, with the above data further NLP techniques can be applied, such as:\n",
    "- tokenization\n",
    "- part-of-speech (POS) tagging."
   ]
  },
  {
   "cell_type": "markdown",
   "id": "3f289a14-7439-4296-9e61-1c1aea45e0b3",
   "metadata": {},
   "source": [
    "### Tokenization"
   ]
  },
  {
   "cell_type": "code",
   "execution_count": 17,
   "id": "5fa06af6-dc7b-425c-9fdc-78143b5e19d7",
   "metadata": {},
   "outputs": [
    {
     "name": "stdout",
     "output_type": "stream",
     "text": [
      "['right', 'place', 'tell', 'titles', 'genres', 'enjoyed', 'past', 'well', 'give', 'surprisingly', 'insightful', 'recommendations', 'chances', 'friends', 'discussing', 'favorite', 'least', 'favorite', 'books', 'goodreads', 'meagan', 'liked', 'discovered', 'historical', 'fiction', 'book', 'club', 'deborah', 'liked', 'discovered', 'steam', 'punk', 'science', 'fiction', 'fantasy', 'book', 'lists', 'gain', 'access', 'massive', 'audience', 'book', 'lovers', 'goodreads', 'great', 'place', 'promote', 'books', 'welcome', 'back', 'moment', 'sign', 'goodreads', 'account']\n"
     ]
    },
    {
     "name": "stderr",
     "output_type": "stream",
     "text": [
      "[nltk_data] Downloading package punkt to\n",
      "[nltk_data]     C:\\Users\\ASUS\\AppData\\Roaming\\nltk_data...\n",
      "[nltk_data]   Package punkt is already up-to-date!\n"
     ]
    }
   ],
   "source": [
    "import nltk \n",
    "nltk.download('punkt')\n",
    "\n",
    "tokens = nltk.word_tokenize(text)\n",
    "\n",
    "print(tokens)"
   ]
  },
  {
   "cell_type": "markdown",
   "id": "208851ea-4a6b-46de-b334-59fba2ce1ff4",
   "metadata": {},
   "source": [
    "The above output presents the analysed text splitted into *tokens*. In this case each token is a single word. Tokenization allows to procede with POS tagging."
   ]
  },
  {
   "cell_type": "markdown",
   "id": "62b2b028-2638-4ada-834a-5baec6b667ca",
   "metadata": {},
   "source": [
    "### Part-of-speech tagging"
   ]
  },
  {
   "cell_type": "markdown",
   "id": "3365200d-370f-4ad4-a735-13b17d8a0874",
   "metadata": {},
   "source": [
    "The below code categorizes the tokens in correspondence with a particular part of speech:"
   ]
  },
  {
   "cell_type": "code",
   "execution_count": 18,
   "id": "2a80b480-321d-48cb-bdc9-54ecb8f81dac",
   "metadata": {},
   "outputs": [
    {
     "name": "stderr",
     "output_type": "stream",
     "text": [
      "[nltk_data] Downloading package averaged_perceptron_tagger to\n",
      "[nltk_data]     C:\\Users\\ASUS\\AppData\\Roaming\\nltk_data...\n",
      "[nltk_data]   Package averaged_perceptron_tagger is already up-to-\n",
      "[nltk_data]       date!\n"
     ]
    },
    {
     "name": "stdout",
     "output_type": "stream",
     "text": [
      "[('right', 'JJ'), ('place', 'NN'), ('tell', 'VBP'), ('titles', 'NNS'), ('genres', 'NNS'), ('enjoyed', 'VBD'), ('past', 'RB'), ('well', 'RB'), ('give', 'VB'), ('surprisingly', 'RB'), ('insightful', 'JJ'), ('recommendations', 'NNS'), ('chances', 'NNS'), ('friends', 'NNS'), ('discussing', 'VBG'), ('favorite', 'JJ'), ('least', 'JJS'), ('favorite', 'JJ'), ('books', 'NNS'), ('goodreads', 'NNS'), ('meagan', 'RB'), ('liked', 'VBD'), ('discovered', 'JJ'), ('historical', 'JJ'), ('fiction', 'NN'), ('book', 'NN'), ('club', 'NN'), ('deborah', 'NN'), ('liked', 'VBD'), ('discovered', 'VBN'), ('steam', 'NN'), ('punk', 'NN'), ('science', 'NN'), ('fiction', 'NN'), ('fantasy', 'JJ'), ('book', 'NN'), ('lists', 'NNS'), ('gain', 'VBP'), ('access', 'NN'), ('massive', 'JJ'), ('audience', 'NN'), ('book', 'NN'), ('lovers', 'NNS'), ('goodreads', 'VBP'), ('great', 'JJ'), ('place', 'NN'), ('promote', 'VBP'), ('books', 'NNS'), ('welcome', 'VB'), ('back', 'RB'), ('moment', 'NN'), ('sign', 'NN'), ('goodreads', 'NNS'), ('account', 'VBP')]\n"
     ]
    }
   ],
   "source": [
    "import nltk\n",
    "nltk.download('averaged_perceptron_tagger')\n",
    "\n",
    "tagged = nltk.pos_tag(tokens)\n",
    "\n",
    "print(tagged)"
   ]
  },
  {
   "cell_type": "markdown",
   "id": "3a4cca3a-451e-418f-b8a8-e61a0b84467b",
   "metadata": {},
   "source": [
    "The output reveals that the data contains a number of **adjectives**, **nouns** (both singular and plural), **verbs** (in different tense forms), and **adverbs**."
   ]
  },
  {
   "cell_type": "markdown",
   "id": "b70c4ef4-6851-44e3-af09-32a3a74eef28",
   "metadata": {},
   "source": [
    "To establish the exact number of each part of speech present in the data, the below code is used:"
   ]
  },
  {
   "cell_type": "code",
   "execution_count": 19,
   "id": "acd6010f-4a66-4060-8f1e-4bbd4cfc4b5c",
   "metadata": {},
   "outputs": [
    {
     "name": "stdout",
     "output_type": "stream",
     "text": [
      "{'JJ': 9, 'NN': 16, 'VBP': 5, 'NNS': 11, 'VBD': 3, 'RB': 5, 'VB': 2, 'VBG': 1, 'JJS': 1, 'VBN': 1}\n"
     ]
    }
   ],
   "source": [
    "counter_dict = {}\n",
    "for item in tagged:\n",
    "    if item[1] not in counter_dict:\n",
    "        counter_dict[item[1]] = 1\n",
    "    else:\n",
    "        counter_dict[item[1]] += 1\n",
    "\n",
    "print(counter_dict)"
   ]
  },
  {
   "cell_type": "markdown",
   "id": "b9cbb055-d85b-4a2e-8863-e7f15980dc4f",
   "metadata": {},
   "source": [
    "This concludes that the data contains:\n",
    "- 13 nouns in the singular form\n",
    "- 12 nouns in the plural form\n",
    "- 10 adjectives\n",
    "- 5 verbs in non-3rd person singular present form\n",
    "- 5 adverbs\n",
    "- 3 verbs in past tense form\n",
    "- 2 verbs in base form\n",
    "- 1 verb in gerund or present participle form\n",
    "- 1 superlative adjective."
   ]
  },
  {
   "cell_type": "markdown",
   "id": "2ac6be81-df94-45eb-bee2-7087451e2e30",
   "metadata": {},
   "source": [
    "Gathered data is visualized with the use of **matplotlib** on the following chart:"
   ]
  },
  {
   "cell_type": "code",
   "execution_count": 22,
   "id": "89a92674-ee5f-4d2f-b0bb-52053df620d2",
   "metadata": {},
   "outputs": [
    {
     "data": {
      "image/png": "[encoded data removed]",
      "text/plain": [
       "<Figure size 720x360 with 1 Axes>"
      ]
     },
     "metadata": {
      "needs_background": "light"
     },
     "output_type": "display_data"
    }
   ],
   "source": [
    "import numpy as np\n",
    "import matplotlib.pyplot as plt\n",
    " \n",
    "pos = list(counter_dict.keys())\n",
    "values = list(counter_dict.values())\n",
    "  \n",
    "fig = plt.figure(figsize = (10, 5))\n",
    " \n",
    "plt.bar(pos, values, color ='lightcoral',\n",
    "        width = 0.4)\n",
    " \n",
    "plt.xlabel(\"Parts of speech\")\n",
    "plt.ylabel(\"No. of occurrences\")\n",
    "plt.title(\"Parts of speech in the data\")\n",
    "plt.show()"
   ]
  }
 ],
 "metadata": {
  "kernelspec": {
   "display_name": "Python 3 (ipykernel)",
   "language": "python",
   "name": "python3"
  },
  "language_info": {
   "codemirror_mode": {
    "name": "ipython",
    "version": 3
   },
   "file_extension": ".py",
   "mimetype": "text/x-python",
   "name": "python",
   "nbconvert_exporter": "python",
   "pygments_lexer": "ipython3",
   "version": "3.10.4"
  }
 },
 "nbformat": 4,
 "nbformat_minor": 5
}
